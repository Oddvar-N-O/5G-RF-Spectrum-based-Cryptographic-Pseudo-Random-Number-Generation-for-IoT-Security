{
 "cells": [
  {
   "attachments": {},
   "cell_type": "markdown",
   "metadata": {},
   "source": [
    "Creating data files for testing with the SP 800-90B tests."
   ]
  },
  {
   "cell_type": "code",
   "execution_count": 22,
   "metadata": {},
   "outputs": [],
   "source": [
    "with open(\"../entropies.txt\", \"r\") as f:\n",
    "    # with open(\"lineEntropies.bin\", \"wb\") as f2:\n",
    "    with open(\"lineEntropies.txt\", \"w\") as f2:\n",
    "        for line in f:\n",
    "            line = line.strip(\"[\")\n",
    "            line = line.rstrip(\"]\")\n",
    "            line = line.strip()\n",
    "            entropies = line.split(\",\")\n",
    "            for entropy in entropies:\n",
    "                entropy = entropy.strip()\n",
    "                if entropy.find(\"]\") != -1:\n",
    "                    double = entropy.split(\"][\")\n",
    "                    for ent in double:\n",
    "                        # f2.write(int(ent).to_bytes(8,byteorder=\"big\", signed=False))\n",
    "                        f2.write(ent + \"\\n\")\n",
    "                    continue\n",
    "                # f2.write(int(entropy).to_bytes(8,byteorder=\"big\", signed=False))\n",
    "                f2.write(entropy + \"\\n\")"
   ]
  }
 ],
 "metadata": {
  "kernelspec": {
   "display_name": "Python 3",
   "language": "python",
   "name": "python3"
  },
  "language_info": {
   "codemirror_mode": {
    "name": "ipython",
    "version": 3
   },
   "file_extension": ".py",
   "mimetype": "text/x-python",
   "name": "python",
   "nbconvert_exporter": "python",
   "pygments_lexer": "ipython3",
   "version": "3.10.8"
  },
  "orig_nbformat": 4
 },
 "nbformat": 4,
 "nbformat_minor": 2
}
