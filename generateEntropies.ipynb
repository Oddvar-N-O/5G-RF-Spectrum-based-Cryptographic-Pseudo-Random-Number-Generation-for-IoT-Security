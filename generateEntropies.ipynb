{
 "cells": [
  {
   "cell_type": "code",
   "execution_count": 2,
   "metadata": {},
   "outputs": [],
   "source": [
    "import pickle\n",
    "from os.path import exists\n",
    "from tqdm import tqdm\n",
    "import numpy as np\n",
    "import matplotlib.pyplot as plt\n",
    "import bitstring\n",
    "import cv2 \n",
    "from glob import glob"
   ]
  },
  {
   "cell_type": "code",
   "execution_count": 47,
   "metadata": {},
   "outputs": [],
   "source": [
    "# Code created by Ferhat Özgur Catak. \n",
    "# Based on paper: 5G-SRNG: 5G Spectrogram-based Random Number\n",
    "# Generation for Devices with Low Entropy Sources\n",
    "files = glob('..\\GeneratedData\\\\NR*.png')\n",
    "\n",
    "num_of_files = len(files)\n",
    "\n",
    "def get_entropy_spectrum(c, k, sel_img_idx, rng):\n",
    "    sel_img = files[sel_img_idx]\n",
    "    img = cv2.imread(sel_img)\n",
    "    start_x = rng.integers(img.shape[0] - c)\n",
    "    start_y = rng.integers(img.shape[1] - k)\n",
    "\n",
    "\n",
    "    selected_spectogram = img[start_x:start_x+c, start_y:start_y+k, :].flatten()\n",
    "    \n",
    "    random_bits = bitstring.BitArray(float=selected_spectogram[0], length=32)\n",
    "    \n",
    "    for i in range(1,selected_spectogram.shape[0]):\n",
    "        tmp = bitstring.BitArray(float=selected_spectogram[i], length=32) \n",
    "        random_bits = random_bits ^ tmp # xor\n",
    "        random_bits = random_bits ^ random_bits << 13\n",
    "        random_bits = random_bits ^ random_bits >> 17\n",
    "        random_bits = random_bits ^ random_bits << 5\n",
    "    \n",
    "    return random_bits.uintle, random_bits\n"
   ]
  },
  {
   "cell_type": "code",
   "execution_count": 5,
   "metadata": {},
   "outputs": [],
   "source": [
    "rng = np.random.default_rng(12345)\n",
    "# entropies = [[[]*num_of_files]*170]*370\n",
    "# entropies = [[[get_entropy_spectrum(c,k,s, rng) for s in range(num_of_files)] for k in range(1,169)] for c in range(1,369)]\n",
    "# entropies = [[[get_entropy_spectrum(c,k,s, rng) for s in range(num_of_files)] for k in range(1,20)] for c in range(1,20)]\n",
    "entropies = []\n",
    "# # entropies = [entropies]\n",
    "# for c in tqdm(range(1,369)):\n",
    "for c in tqdm(range(1,30)):\n",
    "    for k in range(1,30):\n",
    "        temp = []\n",
    "        for s in range(num_of_files):\n",
    "            temp.append(get_entropy_spectrum(c,k,s, rng))\n",
    "        entropies.append(temp)"
   ]
  },
  {
   "attachments": {},
   "cell_type": "markdown",
   "metadata": {},
   "source": [
    "Tried running with list comprehensions and without to see which is faster since it takes a very long time to run.  \n",
    "List comprehensions with 10: 1m 15.7s   \n",
    "Regular loop with 10: 1m 0.8s  \n",
    "List comprehensions with 20: 18m 9.8s  \n",
    "Regular loop with 20: 18m 18.4s  "
   ]
  },
  {
   "cell_type": "code",
   "execution_count": 46,
   "metadata": {},
   "outputs": [
    {
     "name": "stdout",
     "output_type": "stream",
     "text": [
      "(4143306973, BitArray('0xddd8f5f6'))\n",
      "(955241019, BitArray('0x3bd2ef38'))\n",
      "(1276503626, BitArray('0x4ae6154c'))\n",
      "(4009498663, BitArray('0x2718fcee'))\n",
      "(2195688050, BitArray('0x728adf82'))\n",
      "(859824952, BitArray('0x38e33f33'))\n",
      "(2436222145, BitArray('0xc1cc3591'))\n",
      "(2667970256, BitArray('0xd0fe059f'))\n",
      "(3372662081, BitArray('0x41bd06c9'))\n",
      "(2738999304, BitArray('0x08d041a3'))\n",
      "(4235264195, BitArray('0xc30071fc'))\n",
      "(3504191285, BitArray('0x35b7ddd0'))\n",
      "(2158783448, BitArray('0xd86bac80'))\n",
      "(3706267353, BitArray('0xd926e9dc'))\n",
      "(2020726732, BitArray('0xccd77178'))\n",
      "(1637089085, BitArray('0x3dff9361'))\n",
      "(825020608, BitArray('0xc0d02c31'))\n",
      "(1454531241, BitArray('0xa962b256'))\n",
      "(4056381695, BitArray('0xff78c7f1'))\n",
      "(2076483287, BitArray('0xd79ec47b'))\n"
     ]
    }
   ],
   "source": [
    "rng = np.random.default_rng(12345)\n",
    "for i in range(20):\n",
    "    # print(get_entropy_spectrum(1,1,i,rng))\n",
    "    print(get_entropy_spectrum(368,168,i,rng))"
   ]
  },
  {
   "attachments": {},
   "cell_type": "markdown",
   "metadata": {},
   "source": [
    "Best case c,k = 0,0; takes: 0.0s For 20 images: 0.5s  \n",
    "Worst case c,k = 369,169; takes: 1m 24s For 20 images: 24m 12.4s  \n",
    "\n",
    "In other words best case O(1), worst case: O(n^2)  \n",
    "Average case: O(n^2)?  \n",
    "  \n",
    "Because of this generate a entropies based on only the first 841 frame sizes. (1-29 x 1-29)  "
   ]
  }
 ],
 "metadata": {
  "kernelspec": {
   "display_name": "Python 3",
   "language": "python",
   "name": "python3"
  },
  "language_info": {
   "codemirror_mode": {
    "name": "ipython",
    "version": 3
   },
   "file_extension": ".py",
   "mimetype": "text/x-python",
   "name": "python",
   "nbconvert_exporter": "python",
   "pygments_lexer": "ipython3",
   "version": "3.10.8"
  },
  "orig_nbformat": 4,
  "vscode": {
   "interpreter": {
    "hash": "369f2c481f4da34e4445cda3fffd2e751bd1c4d706f27375911949ba6bb62e1c"
   }
  }
 },
 "nbformat": 4,
 "nbformat_minor": 2
}
