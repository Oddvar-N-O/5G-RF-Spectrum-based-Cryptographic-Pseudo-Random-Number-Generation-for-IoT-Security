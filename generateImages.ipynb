{
 "cells": [
  {
   "cell_type": "code",
   "execution_count": 1,
   "metadata": {},
   "outputs": [],
   "source": [
    "import matplotlib.pyplot as plt\n",
    "import scipy\n",
    "from tqdm.notebook import tqdm\n",
    "import numpy as np\n",
    "\n",
    "PROJECT_FOLDER = 'D:\\DATMAS'\n",
    "\n",
    "np.random.seed(10)"
   ]
  },
  {
   "cell_type": "code",
   "execution_count": 2,
   "metadata": {},
   "outputs": [
    {
     "name": "stderr",
     "output_type": "stream",
     "text": [
      "c:\\Python310\\lib\\site-packages\\scipy\\io\\matlab\\_mio.py:226: MatReadWarning: Duplicate variable name \"None\" in stream - replacing previous with new\n",
      "Consider mio5.varmats_from_mat to split file into single variable files\n",
      "  matfile_dict = MR.get_variables(variable_names)\n"
     ]
    }
   ],
   "source": [
    "data = scipy.io.loadmat(PROJECT_FOLDER + '\\data3.mat')\n",
    "\n",
    "trainData = data['trainData'].transpose((3,0,1,2))\n",
    "trainLabels = data['trainLabels'].transpose((3,0,1,2))\n",
    "valData = data['valData'].transpose((3,0,1,2))\n",
    "valLabels = data['valLabels'].transpose((3,0,1,2))"
   ]
  },
  {
   "attachments": {},
   "cell_type": "markdown",
   "metadata": {},
   "source": [
    "Also tried using another package called png to create the images (failed attempt), but found that using the matplotlib package was an easier approach.  \n",
    "Running the whole creation of images took:  15 hours 11 minutes and 23.4 seconds."
   ]
  },
  {
   "cell_type": "code",
   "execution_count": 35,
   "metadata": {},
   "outputs": [
    {
     "data": {
      "image/png": "[encoded data removed]",
      "text/plain": [
       "<Figure size 640x480 with 1 Axes>"
      ]
     },
     "metadata": {},
     "output_type": "display_data"
    }
   ],
   "source": [
    "# Used to create images of square and not square pixels. (Change aspect: auto, equal, 0.05)\n",
    "cmap_name = 'Paired'\n",
    "plt.imshow(trainData[100], cmap=cmap_name, aspect=0.05)\n",
    "plt.axis(\"off\")\n",
    "plt.savefig(f'zeroFive.png',bbox_inches='tight',pad_inches = 0)\n"
   ]
  },
  {
   "cell_type": "code",
   "execution_count": 7,
   "metadata": {},
   "outputs": [
    {
     "data": {
      "application/vnd.jupyter.widget-view+json": {
       "model_id": "ca18bffc515d48029512f3c9007e5f8a",
       "version_major": 2,
       "version_minor": 0
      },
      "text/plain": [
       "  0%|          | 0/2016 [00:00<?, ?it/s]"
      ]
     },
     "metadata": {},
     "output_type": "display_data"
    },
    {
     "data": {
      "image/png": "[encoded data removed]",
      "text/plain": [
       "<Figure size 640x480 with 1 Axes>"
      ]
     },
     "metadata": {},
     "output_type": "display_data"
    }
   ],
   "source": [
    "# trainData and valData is split (2016/32)\n",
    "cmap_name = 'Paired'\n",
    "\n",
    "for i in tqdm(range(trainData.shape[0])):\n",
    "    test_input = trainData[i:i+1,:]\n",
    "    plt.imshow(test_input.reshape(612,14), cmap=cmap_name, aspect=0.05)\n",
    "    plt.axis(\"off\")\n",
    "    plt.savefig(f'../smallGeneratedData\\\\NR{i}.png',bbox_inches='tight',pad_inches = 0)\n",
    "    # val_input2 = valData[i:rand_idx[i]+1,:] Not used since it is a smaller amount of data only 32 datapoints"
   ]
  }
 ],
 "metadata": {
  "kernelspec": {
   "display_name": "Python 3.10.8 64-bit",
   "language": "python",
   "name": "python3"
  },
  "language_info": {
   "codemirror_mode": {
    "name": "ipython",
    "version": 3
   },
   "file_extension": ".py",
   "mimetype": "text/x-python",
   "name": "python",
   "nbconvert_exporter": "python",
   "pygments_lexer": "ipython3",
   "version": "3.10.8"
  },
  "orig_nbformat": 4,
  "vscode": {
   "interpreter": {
    "hash": "369f2c481f4da34e4445cda3fffd2e751bd1c4d706f27375911949ba6bb62e1c"
   }
  }
 },
 "nbformat": 4,
 "nbformat_minor": 2
}
