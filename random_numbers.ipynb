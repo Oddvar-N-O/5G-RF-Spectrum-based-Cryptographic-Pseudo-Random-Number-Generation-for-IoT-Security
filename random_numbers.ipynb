{
 "cells": [
  {
   "attachments": {},
   "cell_type": "markdown",
   "id": "e632100b",
   "metadata": {},
   "source": [
    "# Disclaimer: Code created by Ferhat Özgur Catak, and some modifications made by Oddvar Nordbø Øksendal"
   ]
  },
  {
   "cell_type": "code",
   "execution_count": 39,
   "id": "552984d9",
   "metadata": {},
   "outputs": [
    {
     "name": "stderr",
     "output_type": "stream",
     "text": [
      "ERROR: Could not find a version that satisfies the requirement mpl_toolkits (from versions: none)\n",
      "ERROR: No matching distribution found for mpl_toolkits\n"
     ]
    }
   ],
   "source": [
    "!pip install -q bitstring\n",
    "!pip install -q pandas\n",
    "!pip install -q seaborn\n",
    "!pip install -q nistrng\n",
    "!pip install -q mpl_toolkits\n",
    "\n",
    "from operator import xor\n",
    "import bitstring\n",
    "\n",
    "import numpy as np\n",
    "import pandas as pd\n",
    "import seaborn as sns\n",
    "import scipy.io as sio\n",
    "\n",
    "from random import SystemRandom\n",
    "from scipy.special import entr\n",
    "import matplotlib.pyplot as plt\n",
    "import cv2 \n",
    "\n",
    "from tqdm import tqdm\n",
    "from glob import glob\n",
    "\n",
    "from nistrng import *\n",
    "\n",
    "from mpl_toolkits.axes_grid1.inset_locator import zoomed_inset_axes\n",
    "from mpl_toolkits.axes_grid1.inset_locator import mark_inset"
   ]
  },
  {
   "cell_type": "code",
   "execution_count": 9,
   "id": "0fd3bde4",
   "metadata": {},
   "outputs": [
    {
     "name": "stdout",
     "output_type": "stream",
     "text": [
      "4.891291046995811\n"
     ]
    },
    {
     "data": {
      "image/png": "[encoded data removed]",
      "text/plain": [
       "<Figure size 640x480 with 1 Axes>"
      ]
     },
     "metadata": {},
     "output_type": "display_data"
    }
   ],
   "source": [
    "NUM_OF_ELEMENTS=32\n",
    "SIZE = 200\n",
    "randomint = np.random.randint(0,NUM_OF_ELEMENTS,SIZE)\n",
    "df = pd.DataFrame({'randnum':randomint})\n",
    "ax = sns.histplot(data=df, x=\"randnum\", bins=NUM_OF_ELEMENTS)\n",
    "\n",
    "vals = np.array([h.get_height() for h in ax.patches])\n",
    "\n",
    "pA = vals / vals.sum()\n",
    "Shannon2 = -np.sum(pA*np.log2(pA))\n",
    "print(Shannon2)"
   ]
  },
  {
   "cell_type": "code",
   "execution_count": 10,
   "id": "3defc1cd",
   "metadata": {},
   "outputs": [
    {
     "name": "stdout",
     "output_type": "stream",
     "text": [
      "4.854102205582032\n"
     ]
    },
    {
     "data": {
      "image/png": "[encoded data removed]",
      "text/plain": [
       "<Figure size 640x480 with 1 Axes>"
      ]
     },
     "metadata": {},
     "output_type": "display_data"
    }
   ],
   "source": [
    "cryptogen = SystemRandom()\n",
    "cryptogen.randrange(NUM_OF_ELEMENTS)\n",
    "\n",
    "randomint_sec = [cryptogen.randrange(NUM_OF_ELEMENTS) for i in range(SIZE)]\n",
    "\n",
    "df_sec = pd.DataFrame({'randnum':randomint_sec})\n",
    "ax = sns.histplot(data=df_sec, x=\"randnum\", bins=NUM_OF_ELEMENTS)\n",
    "\n",
    "vals_sec = np.array([h.get_height() for h in ax.patches])\n",
    "pA = vals_sec / vals_sec.sum()\n",
    "Shannon2 = -np.sum(pA*np.log2(pA))\n",
    "print(Shannon2)"
   ]
  },
  {
   "cell_type": "code",
   "execution_count": 41,
   "id": "bea9c767",
   "metadata": {},
   "outputs": [
    {
     "name": "stdout",
     "output_type": "stream",
     "text": [
      "157509177 963011337 963011337 157509177 157509177\n"
     ]
    }
   ],
   "source": [
    "files = glob('../GeneratedData\\\\NR*.png')\n",
    "num_of_files = len(files)\n",
    "FRAME_SIZE = 70\n",
    "\n",
    "def get_entropy_spectrum(c, k, sel_img_idx):\n",
    "    sel_img = files[sel_img_idx]\n",
    "    \n",
    "    img = cv2.imread(sel_img)\n",
    "    \n",
    "    \n",
    "    start_x = np.random.randint(img.shape[0] - c)\n",
    "    start_y = np.random.randint(img.shape[1] - k)\n",
    "    \n",
    "    selected_spectogram = img[start_x:start_x+c, start_y:start_y+k, :].flatten()\n",
    "    \n",
    "    random_bits = bitstring.BitArray(float=selected_spectogram[0], length=32)\n",
    "    \n",
    "    for i in range(1,selected_spectogram.shape[0]):\n",
    "        tmp = bitstring.BitArray(float=selected_spectogram[i], length=32) \n",
    "        random_bits = random_bits ^ tmp # xor\n",
    "        random_bits = random_bits ^ random_bits << 13\n",
    "        random_bits = random_bits ^ random_bits >> 17\n",
    "        random_bits = random_bits ^ random_bits << 5\n",
    "    \n",
    "    return random_bits.uintle, random_bits\n",
    "\n",
    "tmp_rand,random_bits = get_entropy_spectrum(1,2,1)\n",
    "print(tmp_rand, random_bits.uint, random_bits.uintbe, random_bits.uintle, random_bits.uintne)"
   ]
  },
  {
   "cell_type": "code",
   "execution_count": 46,
   "id": "4d0bdb1c",
   "metadata": {},
   "outputs": [
    {
     "name": "stdout",
     "output_type": "stream",
     "text": [
      "step 1\n"
     ]
    }
   ],
   "source": [
    "randomint_sec2 = []\n",
    "\n",
    "print('step 1')\n",
    "entropy_val = get_entropy_spectrum((239),(43),64)\n",
    "for i in tqdm(range(SIZE)):\n",
    "    if i % 20 == 0:\n",
    "        entropy_val = get_entropy_spectrum(((23+i) % 369)+1,((43+i)+1 % 169),64+i)\n",
    "    np.random.SeedSequence(entropy_val)\n",
    "    tmp = np.random.randint(0,NUM_OF_ELEMENTS)\n",
    "    #print(tmp)\n",
    "    randomint_sec2.append(tmp)\n",
    "    \n",
    "df_sec2 = pd.DataFrame({'randnum':randomint_sec2})\n",
    "ax = sns.histplot(data=df_sec2, x=\"randnum\", bins=NUM_OF_ELEMENTS)\n",
    "\n",
    "vals_sec2 = np.array([h.get_height() for h in ax.patches])\n",
    "pA = vals_sec2 / vals_sec2.sum()\n",
    "Shannon2 = -np.sum(pA*np.log2(pA))\n",
    "print(Shannon2)"
   ]
  },
  {
   "cell_type": "markdown",
   "id": "d57c0349",
   "metadata": {},
   "source": [
    "# Analysis"
   ]
  },
  {
   "cell_type": "code",
   "execution_count": 17,
   "id": "4787dec5",
   "metadata": {},
   "outputs": [
    {
     "data": {
      "text/plain": [
       "'\\nvals1 = []\\nvals2 = []\\nvals3 = []\\n\\n#NUM_OF_ELEMENTS = 10\\nfor i in tqdm(range(len(files))):\\n    fname = files[i]\\n    img = plt.imread(sel_img)\\n    vals1 = np.concatenate((vals1,img[:,:,0].flatten().T), axis=None)\\n    vals2 = np.concatenate((vals2,img[:,:,1].flatten().T), axis=None)\\n    vals3 = np.concatenate((vals3,img[:,:,2].flatten().T), axis=None)\\n    \\ndf_vals = pd.DataFrame({\\'vals1\\':vals1,\\'vals2\\':vals2,\\'vals3\\':vals3})\\nprint(df_vals.head(10))\\nprint(df_vals.shape)\\nax = sns.histplot(data=df_vals, x=\"vals1\", bins=NUM_OF_ELEMENTS)\\nplt.show()\\nax = sns.histplot(data=df_vals, x=\"vals2\", bins=NUM_OF_ELEMENTS)\\nplt.show()\\nax = sns.histplot(data=df_vals, x=\"vals3\", bins=NUM_OF_ELEMENTS)\\n#plt.legend()\\nplt.show()\\n'"
      ]
     },
     "execution_count": 17,
     "metadata": {},
     "output_type": "execute_result"
    }
   ],
   "source": [
    "# http://www.reallyreallyrandom.com/photonic/technical/jpegs/\n",
    "'''\n",
    "vals1 = []\n",
    "vals2 = []\n",
    "vals3 = []\n",
    "\n",
    "#NUM_OF_ELEMENTS = 10\n",
    "for i in tqdm(range(len(files))):\n",
    "    fname = files[i]\n",
    "    img = plt.imread(sel_img)\n",
    "    vals1 = np.concatenate((vals1,img[:,:,0].flatten().T), axis=None)\n",
    "    vals2 = np.concatenate((vals2,img[:,:,1].flatten().T), axis=None)\n",
    "    vals3 = np.concatenate((vals3,img[:,:,2].flatten().T), axis=None)\n",
    "    \n",
    "df_vals = pd.DataFrame({'vals1':vals1,'vals2':vals2,'vals3':vals3})\n",
    "print(df_vals.head(10))\n",
    "print(df_vals.shape)\n",
    "ax = sns.histplot(data=df_vals, x=\"vals1\", bins=NUM_OF_ELEMENTS)\n",
    "plt.show()\n",
    "ax = sns.histplot(data=df_vals, x=\"vals2\", bins=NUM_OF_ELEMENTS)\n",
    "plt.show()\n",
    "ax = sns.histplot(data=df_vals, x=\"vals3\", bins=NUM_OF_ELEMENTS)\n",
    "#plt.legend()\n",
    "plt.show()\n",
    "'''"
   ]
  },
  {
   "cell_type": "code",
   "execution_count": null,
   "id": "f3253032",
   "metadata": {},
   "outputs": [
    {
     "name": "stdout",
     "output_type": "stream",
     "text": [
      "(369, 169, 4)\n",
      "84 122\n"
     ]
    },
    {
     "data": {
      "image/png": "[encoded data removed]",
      "text/plain": [
       "<Figure size 800x500 with 3 Axes>"
      ]
     },
     "metadata": {},
     "output_type": "display_data"
    }
   ],
   "source": [
    "# np.random.seed(31)\n",
    "sel_img = files[np.random.randint(0,len(files))]\n",
    "    \n",
    "input_img = plt.imread(sel_img)\n",
    "print(input_img.shape)\n",
    "\n",
    "# The x and y values from img.shape is flipped so in order to get correct frame sizes they are flipped here.\n",
    "start_x = np.random.randint(input_img.shape[1] - FRAME_SIZE)\n",
    "start_y = np.random.randint(input_img.shape[0] - FRAME_SIZE)\n",
    "print(start_x, start_y)\n",
    "\n",
    "fig = plt.figure(figsize=(8, 5), dpi=100)\n",
    "ax = fig.add_subplot(111)\n",
    "heatmap = plt.imshow(input_img,origin='lower')\n",
    "plt.ylabel('Time (ms)', fontsize=16)\n",
    "plt.xlabel('Frequency (MHz)', fontsize=16)\n",
    "ax.set_aspect(0.30)\n",
    "cax = fig.add_axes([ax.get_position().x1+0.02,ax.get_position().y0,0.03,ax.get_position().height])\n",
    "plt.colorbar(heatmap, cax=cax)\n",
    "#plt.savefig(PROJECT_FOLDER + 'input_' + str(i) + '.pdf' ,bbox_inches='tight')\n",
    "\n",
    "axins = zoomed_inset_axes(ax, 4, loc=4, bbox_to_anchor=(0.8,-1,.3,.3), bbox_transform=ax.transAxes)\n",
    "axins.imshow(input_img)\n",
    "axins.set_aspect(0.30)\n",
    "axins.set_xlim(start_x, start_x + FRAME_SIZE)\n",
    "axins.set_ylim(start_y, start_y + FRAME_SIZE)\n",
    "\n",
    "\n",
    "plt.xticks(visible=False)\n",
    "plt.yticks(visible=False)\n",
    "\n",
    "mark_inset(ax, axins, loc1=2, loc2=1, fc=\"none\", ec=\"k\", ls=\"--\")\n",
    "plt.draw()\n",
    "\n",
    "plt.text(70,50, 'Entropy Source Frame',fontsize=16, bbox=dict(facecolor='blue', alpha=0.1))\n",
    "\n",
    "plt.savefig(\"entropy_source.png\",dpi=100,bbox_inches='tight')\n",
    "\n",
    "plt.show()"
   ]
  },
  {
   "cell_type": "code",
   "execution_count": 16,
   "id": "b855e634",
   "metadata": {},
   "outputs": [
    {
     "name": "stdout",
     "output_type": "stream",
     "text": [
      "512 2012\n"
     ]
    },
    {
     "name": "stderr",
     "output_type": "stream",
     "text": [
      "                                             \r"
     ]
    },
    {
     "name": "stdout",
     "output_type": "stream",
     "text": [
      "[]\n"
     ]
    },
    {
     "name": "stderr",
     "output_type": "stream",
     "text": [
      "100%|██████████| 2012/2012 [00:00<00:00, 4422.03it/s]\n",
      "                                             \r"
     ]
    }
   ],
   "source": [
    "# Used for finding a correct way to create enough number.\n",
    "entropy_values = []\n",
    "c_list = np.linspace(1, 250, num=250).astype(int)\n",
    "k_list = np.linspace(1, 250, num=250).astype(int)\n",
    "\n",
    "# c_list = [30]\n",
    "# k_list = [30]\n",
    "c_list = [FRAME_SIZE]\n",
    "k_list = [FRAME_SIZE]\n",
    "\n",
    "\n",
    "EXPERIMENT_SIZE = 1\n",
    "NUM_OF_ELEMENTS = 512\n",
    "SIZE = 2012\n",
    "# 387840\n",
    "print(NUM_OF_ELEMENTS,SIZE)\n",
    "\n",
    "entropies = []\n",
    "# for exp_no in range(EXPERIMENT_SIZE):\n",
    "np.random.shuffle(c_list)\n",
    "np.random.shuffle(k_list)\n",
    "for c_k_idx in tqdm(range(len(c_list)), leave=False): # zip(c_list, k_list):\n",
    "    c = c_list[c_k_idx]\n",
    "    k = k_list[c_k_idx]\n",
    "    sel_img_idx = np.random.randint(0,num_of_files)\n",
    "    entropy_val = get_entropy_spectrum(c,k,sel_img_idx)\n",
    "    entropies.append(entropy_val)\n",
    "\n",
    "# for exp_no in range(EXPERIMENT_SIZE):\n",
    "# randomint_sec3 = np.empty((1,0), np.int8)\n",
    "randomint_sec3 = []\n",
    "print(randomint_sec3)\n",
    "for c_k_idx in tqdm(range(len(c_list)), leave=False): # zip(c_list, k_list):\n",
    "    np.random.SeedSequence(entropies[c_k_idx])\n",
    "    # randomint_sec3 = []\n",
    "    for i in tqdm(range(SIZE)):\n",
    "        \n",
    "        tmp = np.random.randint(0, NUM_OF_ELEMENTS, 2048)\n",
    "        # randomint_sec3 = np.concatenate((randomint_sec3,tmp))\n",
    "        randomint_sec3.extend(tmp)    \n",
    "            # for j in range(tmp):\n",
    "            #     randomint_sec3.append(tmp[j])\n",
    "\n",
    "# for exp_no in tqdm(range(EXPERIMENT_SIZE)):\n",
    "#     np.random.shuffle(c_list)\n",
    "#     np.random.shuffle(k_list)\n",
    "#     for c_k_idx in tqdm(range(len(c_list)), leave=False): # zip(c_list, k_list):\n",
    "#         c = c_list[c_k_idx]\n",
    "#         k = k_list[c_k_idx]\n",
    "        \n",
    "#         randomint_sec3 = []\n",
    "#         # fig = plt.figure()\n",
    "#         for i in tqdm(range(SIZE),desc='Exp: ' + str(exp_no) + ' - c: ' + str(c) + ' k: ' + str(k), leave=False):\n",
    "#             sel_img_idx = np.random.randint(0,num_of_files)\n",
    "#             entropy_val = get_entropy_spectrum(c,k,sel_img_idx)\n",
    "#             np.random.SeedSequence(entropy_val)\n",
    "            \n",
    "#             tmp = np.random.randint(0, NUM_OF_ELEMENTS)\n",
    "#             randomint_sec3.append(tmp)\n",
    "\n",
    "#         df_sec3 = pd.DataFrame({'randnum':randomint_sec3})\n",
    "#         ax = sns.histplot(data=df_sec3, x=\"randnum\", bins=NUM_OF_ELEMENTS)\n",
    "\n",
    "#         vals_sec3 = np.array([h.get_height() for h in ax.patches])\n",
    "#         pA = vals_sec3 / vals_sec3.sum()\n",
    "#         Shannon2 = -np.sum(pA*np.log2(pA))\n",
    "#         entropy_values.append(Shannon2)\n",
    "#         #print(Shannon2)\n",
    "#         plt.close(fig)\n",
    "        \n",
    "#         df_ent_tmp = pd.DataFrame({'c':[c], 'k':[k], 'ent':[Shannon2]})\n",
    "#         df_ent_tmp.to_csv(\"ent_experiments.csv\",index=True, header=False, mode='a')"
   ]
  },
  {
   "cell_type": "code",
   "execution_count": 20,
   "id": "af3dc320",
   "metadata": {},
   "outputs": [
    {
     "name": "stderr",
     "output_type": "stream",
     "text": [
      "100%|██████████| 8/8 [01:34<00:00, 11.79s/it]\n"
     ]
    }
   ],
   "source": [
    "# Used to create 8 text files with 9 bit random values. \n",
    "# These are the basis for the comparison of the two NIST test suites.\n",
    "\n",
    "# EXPERIMENT_SIZE = 1\n",
    "# FRAME_SIZE = 10\n",
    "NUM_OF_ELEMENTS = 512\n",
    "SIZE = 2012\n",
    "entropy_values = []\n",
    "# c_list = np.linspace(1, 250, num=250).astype(int)\n",
    "# k_list = np.linspace(1, 250, num=250).astype(int)\n",
    "\n",
    "\n",
    "# c_list = [30]\n",
    "# k_list = [30]\n",
    "for i in tqdm(range(1,9)):\n",
    "    FRAME_SIZE = 10 * i\n",
    "    c_list = np.linspace(1, 369, num=369).astype(int)\n",
    "    k_list = np.linspace(1, 169, num=169).astype(int)\n",
    "    c_list = [FRAME_SIZE]\n",
    "    k_list = [FRAME_SIZE]\n",
    "\n",
    "    entropies = []\n",
    "    # for exp_no in range(EXPERIMENT_SIZE):\n",
    "    np.random.shuffle(c_list)\n",
    "    np.random.shuffle(k_list)\n",
    "    for c_k_idx in range(len(c_list)): # zip(c_list, k_list):\n",
    "        c = c_list[c_k_idx]\n",
    "        k = k_list[c_k_idx]\n",
    "        sel_img_idx = np.random.randint(0,num_of_files)\n",
    "        entropy_val = get_entropy_spectrum(c,k,sel_img_idx)\n",
    "        entropies.append(entropy_val)\n",
    "\n",
    "    # for exp_no in range(EXPERIMENT_SIZE):\n",
    "    randomint_sec3 = []\n",
    "    for c_k_idx in range(len(c_list)): # zip(c_list, k_list):\n",
    "        np.random.SeedSequence(entropies[c_k_idx])\n",
    "        for i in range(SIZE):\n",
    "            tmp = np.random.randint(0, NUM_OF_ELEMENTS, 2048)\n",
    "            randomint_sec3.extend(tmp) \n",
    "\n",
    "    \n",
    "    f = open(f'randomint_sec3.txt','w')\n",
    "    for i in range(len(randomint_sec3)):\n",
    "        f.write(\"{0:b}\".format(randomint_sec3[i]).zfill(9) + '\\n')\n",
    "    f.close()\n",
    "    os.rename('randomint_sec3.txt', f'randomint_sec3_{FRAME_SIZE}.txt')"
   ]
  },
  {
   "cell_type": "code",
   "execution_count": 21,
   "id": "437c7b6c",
   "metadata": {},
   "outputs": [
    {
     "name": "stderr",
     "output_type": "stream",
     "text": [
      "100%|██████████| 8/8 [08:54<00:00, 66.85s/it]\n"
     ]
    }
   ],
   "source": [
    "# Implementation of https://github.com/InsaneMonster/NistRng\n",
    "for i in tqdm(range(1,9)):\n",
    "    FRAME_SIZE = 10 * i\n",
    "    !python rand_testsuite.py \"randomint_sec3_{FRAME_SIZE}.txt\" > \"fs{FRAME_SIZE}_res.txt\""
   ]
  },
  {
   "cell_type": "code",
   "execution_count": 27,
   "id": "2a6be48f",
   "metadata": {},
   "outputs": [
    {
     "name": "stderr",
     "output_type": "stream",
     "text": [
      " 12%|█▎        | 1/8 [1:43:35<12:05:11, 6215.96s/it]"
     ]
    },
    {
     "name": "stdout",
     "output_type": "stream",
     "text": [
      "Test results:\n",
      "- PASSED - score: 0.87 - Monobit - elapsed time: 3 ms\n",
      "- PASSED - score: 0.837 - Frequency Within Block - elapsed time: 4 ms\n",
      "- PASSED - score: 0.836 - Runs - elapsed time: 8663 ms\n",
      "- PASSED - score: 0.46 - Longest Run Ones In A Block - elapsed time: 1347 ms\n",
      "- PASSED - score: 0.414 - Binary Matrix Rank - elapsed time: 211869 ms\n",
      "- FAILED - score: 0.0 - Discrete Fourier Transform - elapsed time: 23539 ms\n",
      "- FAILED - score: 0.0 - Non Overlapping Template Matching - elapsed time: 115013 ms\n",
      "- FAILED - score: 0.0 - Overlapping Template Matching - elapsed time: 3524 ms\n",
      "- FAILED - score: 0.0 - Maurers Universal - elapsed time: 39067 ms\n",
      "- FAILED - score: 0.0 - Linear Complexity - elapsed time: 2945523 ms\n",
      "- FAILED - score: 0.0 - Serial - elapsed time: 1178680 ms\n",
      "- FAILED - score: 0.0 - Approximate Entropy - elapsed time: 1537745 ms\n",
      "- FAILED - score: 0.0 - Cumulative Sums - elapsed time: 35678 ms\n",
      "- FAILED - score: 0.683 - Random Excursion - elapsed time: 112625 ms\n",
      "- PASSED - score: 0.17 - Random Excursion Variant - elapsed time: 591 ms\n"
     ]
    },
    {
     "name": "stderr",
     "output_type": "stream",
     "text": [
      " 25%|██▌       | 2/8 [3:27:51<10:23:54, 6239.09s/it]"
     ]
    },
    {
     "name": "stdout",
     "output_type": "stream",
     "text": [
      "Test results:\n",
      "- PASSED - score: 0.028 - Monobit - elapsed time: 3 ms\n",
      "- PASSED - score: 0.066 - Frequency Within Block - elapsed time: 3 ms\n",
      "- PASSED - score: 0.942 - Runs - elapsed time: 9478 ms\n",
      "- PASSED - score: 0.365 - Longest Run Ones In A Block - elapsed time: 1352 ms\n",
      "- PASSED - score: 0.608 - Binary Matrix Rank - elapsed time: 203595 ms\n",
      "- FAILED - score: 0.0 - Discrete Fourier Transform - elapsed time: 21941 ms\n",
      "- FAILED - score: 0.0 - Non Overlapping Template Matching - elapsed time: 108437 ms\n",
      "- FAILED - score: 0.0 - Overlapping Template Matching - elapsed time: 3183 ms\n",
      "- FAILED - score: 0.0 - Maurers Universal - elapsed time: 37929 ms\n",
      "- FAILED - score: 0.0 - Linear Complexity - elapsed time: 2836690 ms\n",
      "- FAILED - score: 0.0 - Serial - elapsed time: 1324897 ms\n",
      "- FAILED - score: 0.0 - Approximate Entropy - elapsed time: 1561648 ms\n",
      "- FAILED - score: 0.0 - Cumulative Sums - elapsed time: 34184 ms\n",
      "- FAILED - score: 0.683 - Random Excursion - elapsed time: 108922 ms\n",
      "- PASSED - score: 0.17 - Random Excursion Variant - elapsed time: 487 ms\n"
     ]
    },
    {
     "name": "stderr",
     "output_type": "stream",
     "text": [
      " 38%|███▊      | 3/8 [5:19:17<8:56:56, 6443.26s/it] "
     ]
    },
    {
     "name": "stdout",
     "output_type": "stream",
     "text": [
      "Test results:\n",
      "- PASSED - score: 0.334 - Monobit - elapsed time: 3 ms\n",
      "- PASSED - score: 0.061 - Frequency Within Block - elapsed time: 3 ms\n",
      "- PASSED - score: 0.976 - Runs - elapsed time: 8106 ms\n",
      "- PASSED - score: 0.39 - Longest Run Ones In A Block - elapsed time: 1250 ms\n",
      "- PASSED - score: 0.747 - Binary Matrix Rank - elapsed time: 190043 ms\n",
      "- FAILED - score: 0.0 - Discrete Fourier Transform - elapsed time: 19370 ms\n",
      "- PASSED - score: 0.39 - Non Overlapping Template Matching - elapsed time: 120640 ms\n",
      "- FAILED - score: 0.0 - Overlapping Template Matching - elapsed time: 3444 ms\n",
      "- FAILED - score: 0.0 - Maurers Universal - elapsed time: 38461 ms\n",
      "- FAILED - score: 0.0 - Linear Complexity - elapsed time: 3012021 ms\n",
      "- FAILED - score: 0.0 - Serial - elapsed time: 1338530 ms\n",
      "- FAILED - score: 0.0 - Approximate Entropy - elapsed time: 1786623 ms\n",
      "- FAILED - score: 0.0 - Cumulative Sums - elapsed time: 39327 ms\n",
      "- FAILED - score: 0.683 - Random Excursion - elapsed time: 125305 ms\n",
      "- PASSED - score: 0.17 - Random Excursion Variant - elapsed time: 567 ms\n"
     ]
    },
    {
     "name": "stderr",
     "output_type": "stream",
     "text": [
      " 50%|█████     | 4/8 [6:55:05<6:51:15, 6168.95s/it]"
     ]
    },
    {
     "name": "stdout",
     "output_type": "stream",
     "text": [
      "Test results:\n",
      "- PASSED - score: 0.387 - Monobit - elapsed time: 4 ms\n",
      "- PASSED - score: 0.864 - Frequency Within Block - elapsed time: 4 ms\n",
      "- PASSED - score: 0.759 - Runs - elapsed time: 10659 ms\n",
      "- PASSED - score: 0.031 - Longest Run Ones In A Block - elapsed time: 1588 ms\n",
      "- PASSED - score: 0.695 - Binary Matrix Rank - elapsed time: 243373 ms\n",
      "- FAILED - score: 0.0 - Discrete Fourier Transform - elapsed time: 21864 ms\n",
      "- PASSED - score: 0.394 - Non Overlapping Template Matching - elapsed time: 145964 ms\n",
      "- FAILED - score: 0.0 - Overlapping Template Matching - elapsed time: 4134 ms\n",
      "- FAILED - score: 0.0 - Maurers Universal - elapsed time: 43627 ms\n",
      "- FAILED - score: 0.0 - Linear Complexity - elapsed time: 2759016 ms\n",
      "- FAILED - score: 0.0 - Serial - elapsed time: 1139215 ms\n",
      "- FAILED - score: 0.0 - Approximate Entropy - elapsed time: 1253454 ms\n",
      "- FAILED - score: 0.0 - Cumulative Sums - elapsed time: 28805 ms\n",
      "- FAILED - score: 0.683 - Random Excursion - elapsed time: 93408 ms\n",
      "- PASSED - score: 0.17 - Random Excursion Variant - elapsed time: 411 ms\n"
     ]
    },
    {
     "name": "stderr",
     "output_type": "stream",
     "text": [
      " 62%|██████▎   | 5/8 [8:25:05<4:54:34, 5891.56s/it]"
     ]
    },
    {
     "name": "stdout",
     "output_type": "stream",
     "text": [
      "Test results:\n",
      "- PASSED - score: 0.711 - Monobit - elapsed time: 3 ms\n",
      "- PASSED - score: 0.401 - Frequency Within Block - elapsed time: 2 ms\n",
      "- PASSED - score: 0.177 - Runs - elapsed time: 7409 ms\n",
      "- PASSED - score: 0.359 - Longest Run Ones In A Block - elapsed time: 1157 ms\n",
      "- PASSED - score: 0.929 - Binary Matrix Rank - elapsed time: 173846 ms\n",
      "- FAILED - score: 0.0 - Discrete Fourier Transform - elapsed time: 16003 ms\n",
      "- FAILED - score: 0.0 - Non Overlapping Template Matching - elapsed time: 107025 ms\n",
      "- FAILED - score: 0.0 - Overlapping Template Matching - elapsed time: 3246 ms\n",
      "- FAILED - score: 0.0 - Maurers Universal - elapsed time: 34414 ms\n",
      "- FAILED - score: 0.0 - Linear Complexity - elapsed time: 2592462 ms\n",
      "- FAILED - score: 0.002 - Serial - elapsed time: 1123966 ms\n",
      "- FAILED - score: 0.0 - Approximate Entropy - elapsed time: 1219458 ms\n",
      "- FAILED - score: 0.0 - Cumulative Sums - elapsed time: 26597 ms\n",
      "- FAILED - score: 0.683 - Random Excursion - elapsed time: 91810 ms\n",
      "- PASSED - score: 0.17 - Random Excursion Variant - elapsed time: 434 ms\n"
     ]
    },
    {
     "name": "stderr",
     "output_type": "stream",
     "text": [
      "c:\\Python310\\lib\\site-packages\\nistrng\\test.py:47: RuntimeWarning: Mean of empty slice\n",
      "  return float(numpy.nanmean(self._score_list))\n",
      " 75%|███████▌  | 6/8 [9:57:48<3:12:39, 5779.65s/it]"
     ]
    },
    {
     "name": "stdout",
     "output_type": "stream",
     "text": [
      "Test results:\n",
      "- PASSED - score: 0.48 - Monobit - elapsed time: 18 ms\n",
      "- PASSED - score: 0.638 - Frequency Within Block - elapsed time: 4 ms\n",
      "- PASSED - score: 0.182 - Runs - elapsed time: 7361 ms\n",
      "- PASSED - score: 0.369 - Longest Run Ones In A Block - elapsed time: 1150 ms\n",
      "- PASSED - score: 0.449 - Binary Matrix Rank - elapsed time: 173878 ms\n",
      "- FAILED - score: 0.0 - Discrete Fourier Transform - elapsed time: 16171 ms\n",
      "- PASSED - score: 0.289 - Non Overlapping Template Matching - elapsed time: 95720 ms\n",
      "- FAILED - score: 0.0 - Overlapping Template Matching - elapsed time: 3253 ms\n",
      "- FAILED - score: 0.0 - Maurers Universal - elapsed time: 35709 ms\n",
      "- FAILED - score: 0.0 - Linear Complexity - elapsed time: 2632378 ms\n",
      "- FAILED - score: nan - Serial - elapsed time: 1182151 ms\n",
      "- FAILED - score: 0.0 - Approximate Entropy - elapsed time: 1286171 ms\n",
      "- FAILED - score: 0.0 - Cumulative Sums - elapsed time: 31512 ms\n",
      "- FAILED - score: 0.63 - Random Excursion - elapsed time: 94651 ms\n",
      "- FAILED - score: 0.0 - Random Excursion Variant - elapsed time: 415 ms\n"
     ]
    },
    {
     "name": "stderr",
     "output_type": "stream",
     "text": [
      " 88%|████████▊ | 7/8 [11:26:57<1:33:58, 5638.89s/it]"
     ]
    },
    {
     "name": "stdout",
     "output_type": "stream",
     "text": [
      "Test results:\n",
      "- PASSED - score: 0.992 - Monobit - elapsed time: 0 ms\n",
      "- PASSED - score: 0.795 - Frequency Within Block - elapsed time: 18 ms\n",
      "- PASSED - score: 0.723 - Runs - elapsed time: 7410 ms\n",
      "- PASSED - score: 0.761 - Longest Run Ones In A Block - elapsed time: 1157 ms\n",
      "- PASSED - score: 0.646 - Binary Matrix Rank - elapsed time: 173802 ms\n",
      "- FAILED - score: 0.0 - Discrete Fourier Transform - elapsed time: 16206 ms\n",
      "- FAILED - score: 0.0 - Non Overlapping Template Matching - elapsed time: 107234 ms\n",
      "- FAILED - score: 0.0 - Overlapping Template Matching - elapsed time: 3242 ms\n",
      "- FAILED - score: 0.0 - Maurers Universal - elapsed time: 34446 ms\n",
      "- FAILED - score: 0.0 - Linear Complexity - elapsed time: 2574475 ms\n",
      "- FAILED - score: 0.0 - Serial - elapsed time: 1094665 ms\n",
      "- FAILED - score: 0.0 - Approximate Entropy - elapsed time: 1211686 ms\n",
      "- FAILED - score: 0.0 - Cumulative Sums - elapsed time: 30003 ms\n",
      "- FAILED - score: 0.683 - Random Excursion - elapsed time: 92540 ms\n",
      "- PASSED - score: 0.17 - Random Excursion Variant - elapsed time: 390 ms\n"
     ]
    },
    {
     "name": "stderr",
     "output_type": "stream",
     "text": [
      "100%|██████████| 8/8 [12:55:22<00:00, 5815.30s/it]  "
     ]
    },
    {
     "name": "stdout",
     "output_type": "stream",
     "text": [
      "Test results:\n",
      "- PASSED - score: 0.205 - Monobit - elapsed time: 0 ms\n",
      "- PASSED - score: 0.515 - Frequency Within Block - elapsed time: 0 ms\n",
      "- PASSED - score: 0.431 - Runs - elapsed time: 7549 ms\n",
      "- PASSED - score: 0.389 - Longest Run Ones In A Block - elapsed time: 1297 ms\n",
      "- PASSED - score: 0.749 - Binary Matrix Rank - elapsed time: 173989 ms\n",
      "- FAILED - score: 0.0 - Discrete Fourier Transform - elapsed time: 15550 ms\n",
      "- FAILED - score: 0.0 - Non Overlapping Template Matching - elapsed time: 104009 ms\n",
      "- FAILED - score: 0.0 - Overlapping Template Matching - elapsed time: 3109 ms\n",
      "- FAILED - score: 0.0 - Maurers Universal - elapsed time: 33128 ms\n",
      "- FAILED - score: 0.0 - Linear Complexity - elapsed time: 2553498 ms\n",
      "- FAILED - score: 0.0 - Serial - elapsed time: 1104500 ms\n",
      "- FAILED - score: 0.0 - Approximate Entropy - elapsed time: 1184631 ms\n",
      "- FAILED - score: 0.0 - Cumulative Sums - elapsed time: 29466 ms\n",
      "- FAILED - score: 0.63 - Random Excursion - elapsed time: 92296 ms\n",
      "- FAILED - score: 0.0 - Random Excursion Variant - elapsed time: 438 ms\n"
     ]
    },
    {
     "name": "stderr",
     "output_type": "stream",
     "text": [
      "\n"
     ]
    }
   ],
   "source": [
    "# Implementation of https://github.com/InsaneMonster/NistRng\n",
    "from nistrng import *\n",
    "\n",
    "for i in tqdm(range(1,9)):\n",
    "    FRAME_SIZE = 10 * i\n",
    "    handle = open(f\"randomint_sec3_{FRAME_SIZE}.txt\")\n",
    "    data_list = []\n",
    "\n",
    "    for line in handle:\n",
    "        data_list.append(line.strip().rstrip())\n",
    "\n",
    "    binary_sequence: np.ndarray = pack_sequence(data_list)\n",
    "    eligible_battery: dict = check_eligibility_all_battery(binary_sequence, SP800_22R1A_BATTERY)\n",
    "    results = run_all_battery(binary_sequence, eligible_battery, False)\n",
    "    print(\"Test results:\")\n",
    "    for result, elapsed_time in results:\n",
    "        if result.passed:\n",
    "            print(\"- PASSED - score: \" + str(np.round(result.score, 3)) + \" - \" + result.name + \" - elapsed time: \" + str(elapsed_time) + \" ms\")\n",
    "        else:\n",
    "            print(\"- FAILED - score: \" + str(np.round(result.score, 3)) + \" - \" + result.name + \" - elapsed time: \" + str(elapsed_time) + \" ms\")"
   ]
  },
  {
   "attachments": {},
   "cell_type": "markdown",
   "id": "640203eb",
   "metadata": {},
   "source": [
    "From comparison of https://github.com/InsaneMonster/NistRng and https://github.com/stevenang/randomness_testsuite  \n",
    "The randomness testsuite takes 8 minutes and 54.8 seconds to run for 8 tests and the nistrng pip package takes 1 hour 43 minutes and 35 seconds for a single test. (12 Hours, 55 minutes for 8 tests.)\n",
    "  \n",
    "Running the loop to prepare all the data took 17 seconds.\n"
   ]
  },
  {
   "cell_type": "markdown",
   "id": "db0d7f82",
   "metadata": {},
   "source": []
  },
  {
   "cell_type": "code",
   "execution_count": 29,
   "id": "34a5253c",
   "metadata": {},
   "outputs": [
    {
     "name": "stderr",
     "output_type": "stream",
     "text": [
      "100%|██████████| 1/1 [00:00<00:00, 500.22it/s]"
     ]
    },
    {
     "name": "stdout",
     "output_type": "stream",
     "text": [
      "All top results and their corresponding Frame size:\n",
      "\n",
      " [(1, 0.9776621511479011, 60), (2, 0.7991196068640491, 60), (3, 0.4448667750363653, 60), (4, 0.7853000697736106, 60), (5, 0.15645192020908885, 60), (6, 0.8185458083820434, 60), (7, 0.4834972367337289, 60), (8, 0.7152209501713237, 60), (9, 0.3076517330869569, 60), (10, 0.45322080157814615, 60), (11, 0.9188976859657026, 60), (12, 0.8032281025002933, 60), (13, 0.7092301772484821, 60), (14, 0.6829635812616197, 60), (15, 0.5653283339374154, 60), (16, 0.6267656618378564, 60)] \n",
      "\n",
      " All total average results per Frame size: \n",
      "\n",
      " [(0.6404969122334114, 60)]\n"
     ]
    },
    {
     "name": "stderr",
     "output_type": "stream",
     "text": [
      "\n"
     ]
    }
   ],
   "source": [
    "import re\n",
    "# Simple tests to analyze results from the NIST test suite. (To find if a frame size is better.)\n",
    "\n",
    "results = [(0,0,0)]*16\n",
    "avgResults = []\n",
    "for i in tqdm(range(6,7)):\n",
    "# for i in tqdm(range(1,2)):\n",
    "    FRAME_SIZE = 10 * i\n",
    "    file = open(f'fs{FRAME_SIZE}_res.txt')\n",
    "    test_nr = 0\n",
    "    total_average = 0\n",
    "    random_excursion_test = False\n",
    "    random_excursion_variant_test = False\n",
    "    for line in file:\n",
    "        if random_excursion_test:\n",
    "            if re.search(\"\\s+STATE\", line) or re.search(\"\\s+F\", line):\n",
    "                continue\n",
    "            s_num = re.search(\"\\s+\\S+\\s+\\S+\\s+\", line).end()\n",
    "            e_num = re.search(\"\\s+T\", line).start()\n",
    "            ret_avg += float(line[s_num+1:e_num])\n",
    "            if re.search(\"\\'\\+4\", line):\n",
    "                # Last line\n",
    "                ret_avg = ret_avg / 8\n",
    "                if results[test_nr][0] < ret_avg:\n",
    "                    results[test_nr] = (test_nr+1, ret_avg, FRAME_SIZE)\n",
    "                total_average += ret_avg\n",
    "                test_nr += 1\n",
    "                random_excursion_test = False\n",
    "            continue\n",
    "        if random_excursion_variant_test:\n",
    "            if re.search(\"\\s+STATE\", line) or re.search(\"\\s+F\", line):\n",
    "                continue\n",
    "            s_num = re.search(\"\\s+\\S+\\s+\\S+\\s+\", line).end()\n",
    "            e_num = re.search(\"\\s+T\", line).start()\n",
    "            revt_avg += float(line[s_num:e_num])\n",
    "            if re.search(\"\\'\\+9.0\", line):\n",
    "                # Last line\n",
    "                revt_avg = revt_avg / 18\n",
    "                if results[test_nr][1] < revt_avg:\n",
    "                    results[test_nr] = (test_nr+1, revt_avg, FRAME_SIZE)\n",
    "                total_average += revt_avg\n",
    "                test_nr += 1\n",
    "                random_excursion_variant_test = False\n",
    "            continue\n",
    "        if re.search(\"^2.11\", line):\n",
    "            startsearch = re.search(\":\", line).start()\n",
    "            if startsearch:\n",
    "                line = line[startsearch:]\n",
    "                s_num1 = re.search(\"\\(\\(\",line).end()\n",
    "                e_num1 = re.search(\",\", line).start()\n",
    "                s_num2 = re.search(\"\\(\", line).end()\n",
    "                e_num2 = re.search(\",\", line).end()\n",
    "                num1 = float(line[s_num1:e_num1])\n",
    "                num2 = float(line[s_num2+1:e_num2-1])\n",
    "                avg = (num1 + num2) / 2\n",
    "                if results[test_nr][1] < avg:\n",
    "                    results[test_nr] = (test_nr+1, avg, FRAME_SIZE)\n",
    "                test_nr += 1\n",
    "                total_average += avg\n",
    "        if re.search(\"^2.14\", line):\n",
    "            random_excursion_test = True\n",
    "            ret_avg = 0\n",
    "            continue\n",
    "        if re.search(\"^2.15\", line):\n",
    "            random_excursion_variant_test = True\n",
    "            revt_avg = 0\n",
    "            continue\n",
    "        if re.search(\"^2.+\", line):\n",
    "            startsearch = re.search(\":\", line).start()\n",
    "            if startsearch:\n",
    "                line = line[startsearch:]\n",
    "                s_num = re.search(\"\\(\",line).start()\n",
    "                e_num = re.search(\",\", line).start()\n",
    "                number = float(line[s_num+1:e_num])\n",
    "                if results[test_nr][1] < number:\n",
    "                    results[test_nr] = (test_nr+1, number, FRAME_SIZE)\n",
    "                test_nr += 1\n",
    "                total_average += number\n",
    "    avgResults.append((total_average / 16, FRAME_SIZE))\n",
    "    file.close()\n",
    "print(f\"All top results and their corresponding Frame size:\\n\\n {results} \\n\\n \"\n",
    "       f\"All total average results per Frame size: \\n\\n {avgResults}\")\n",
    "\n"
   ]
  },
  {
   "attachments": {},
   "cell_type": "markdown",
   "id": "902c1f58",
   "metadata": {},
   "source": [
    "Frame Size = 70 contains 6 False, all others contain no False tests (Unpassed)."
   ]
  },
  {
   "cell_type": "code",
   "execution_count": 88,
   "id": "8cab59b5",
   "metadata": {},
   "outputs": [],
   "source": [
    "!python rand_testsuite.py randomint_sec3_10.txt > fs10_res.txt"
   ]
  },
  {
   "cell_type": "code",
   "execution_count": 61,
   "id": "dad1dd28",
   "metadata": {},
   "outputs": [
    {
     "name": "stdout",
     "output_type": "stream",
     "text": [
      "9\n",
      "The statistical test of the Binary Expansion of e\n",
      "2.01. Frequency Test:\t\t\t\t\t\t\t\t (0.4568764751049754, True)\n",
      "2.02. Block Frequency Test:\t\t\t\t\t\t\t (0.6828422449469483, True)\n",
      "2.03. Run Test:\t\t\t\t\t\t\t\t\t\t (0.5388493826925873, True)\n",
      "2.04. Run Test (Longest Run of Ones): \t\t\t\t (0.9818775052703747, True)\n",
      "2.05. Binary Matrix Rank Test:\t\t\t\t\t\t (0.8258163067666981, True)\n",
      "2.06. Discrete Fourier Transform (Spectral) Test:\t (0.013223600911537315, True)\n",
      "Non-Overlapping Template Test DEBUG BEGIN:\n",
      "\tLength of input:\t\t 1000000\n",
      "\tValue of Mean (µ):\t\t 244.125\n",
      "\tValue of Variance(σ):\t 236.03439331054688\n",
      "\tValue of W:\t\t\t\t [245. 259. 275. 238. 245. 236. 239. 226.]\n",
      "\tValue of xObs:\t\t\t 6.924308686868686\n",
      "\tP-Value:\t\t\t\t 0.5448208448431824\n",
      "DEBUG END.\n",
      "2.07. Non-overlapping Template Matching Test:\t\t (0.5448208448431824, True)\n",
      "2.08. Overlappong Template Matching Test: \t\t\t (0.7994554614057979, True)\n",
      "Maurer's Universal Statistical Test DEBUG BEGIN:\n",
      "\tLength of input:\t\t 1000000\n",
      "\tLength of each block:\t 7\n",
      "\tNumber of Blocks:\t\t 1280\n",
      "\tValue of phi:\t\t\t 6.196969443059895\n",
      "\tP-Value:\t\t\t\t 0.7951560937933436\n",
      "DEBUG END.\n",
      "2.09. Universal Statistical Test:\t\t\t\t\t (0.7951560937933436, True)\n",
      "2.10. Linear Complexity Test:\t\t\t\t\t\t (0.4669146425082541, True)\n",
      "2.11. Serial Test:\t\t\t\t\t\t\t\t\t ((0.10787269732945397, True), (0.08895064591255092, True))\n",
      "Approximate Entropy Test DEBUG BEGIN:\n",
      "\tLength of input:\t\t\t 1000000\n",
      "\tLength of each block:\t\t 10\n",
      "\tApEn(m):\t\t\t\t\t 0.6926514883684849\n",
      "\txObs:\t\t\t\t\t\t 991.3843829207902\n",
      "\tP-Value:\t\t\t\t\t 0.7623047106249341\n",
      "DEBUG END.\n",
      "2.12. Approximate Entropy Test:\t\t\t\t\t\t (0.7623047106249341, True)\n",
      "2.13. Cumulative Sums (Forward):\t\t\t\t\t (0.6773529731183192, True)\n",
      "2.13. Cumulative Sums (Backward):\t\t\t\t\t (0.7830047251670809, True)\n",
      "2.14. Random Excursion Test:\n",
      "\t\t STATE \t\t\t xObs \t\t\t\t P-Value \t\t\t Conclusion\n",
      "\t\t '-4' \t\t 6.429992681956906 \t\t 0.26659699308595586 \t\t True\n",
      "\t\t '-3' \t\t 7.183267796610169 \t\t 0.20736336334572544 \t\t True\n",
      "\t\t '-2' \t\t 10.164120806305363 \t\t 0.0707162941725386 \t\t True\n",
      "\t\t '-1' \t\t 6.84180790960452 \t\t 0.23267360842681578 \t\t True\n",
      "\t\t '+1' \t\t 4.819209039548023 \t\t 0.43834039462690366 \t\t True\n",
      "\t\t '+2' \t\t 8.044848992118295 \t\t 0.1537811711352516 \t\t True\n",
      "\t\t '+3' \t\t 1.3048135593220336 \t\t 0.934435588628094 \t\t True\n",
      "\t\t '+4' \t\t 12.505050861576038 \t\t 0.028485875096997553 \t\t True\n",
      "2.15. Random Excursion Variant Test:\t\t\t\t\t\t\n",
      "\t\t STATE \t\t COUNTS \t\t\t P-Value \t\t Conclusion\n",
      "\t\t '-9.0' \t\t 277 \t\t 0.19737642754873086 \t\t True\n",
      "\t\t '-8.0' \t\t 269 \t\t 0.2067593297400192 \t\t True\n",
      "\t\t '-7.0' \t\t 264 \t\t 0.1996791363065552 \t\t True\n",
      "\t\t '-6.0' \t\t 255 \t\t 0.21131361946755645 \t\t True\n",
      "\t\t '-5.0' \t\t 268 \t\t 0.10691875656592587 \t\t True\n",
      "\t\t '-4.0' \t\t 282 \t\t 0.03491857104578948 \t\t True\n",
      "\t\t '-3.0' \t\t 284 \t\t 0.010981172416385198 \t\t True\n",
      "\t\t '-2.0' \t\t 269 \t\t 0.004756240245870601 \t\t False\n",
      "\t\t '-1.0' \t\t 225 \t\t 0.010736156840981871 \t\t True\n",
      "\t\t '+1.0' \t\t 169 \t\t 0.6706943810042421 \t\t True\n",
      "\t\t '+2.0' \t\t 183 \t\t 0.8539232992870668 \t\t True\n",
      "\t\t '+3.0' \t\t 186 \t\t 0.8306077201746694 \t\t True\n",
      "\t\t '+4.0' \t\t 183 \t\t 0.904062119780416 \t\t True\n",
      "\t\t '+5.0' \t\t 175 \t\t 0.9717345240062804 \t\t True\n",
      "\t\t '+6.0' \t\t 176 \t\t 0.9872143297355732 \t\t True\n",
      "\t\t '+7.0' \t\t 188 \t\t 0.8711870198653089 \t\t True\n",
      "\t\t '+8.0' \t\t 193 \t\t 0.8262061679329937 \t\t True\n",
      "\t\t '+9.0' \t\t 168 \t\t 0.9076401724870623 \t\t True\n"
     ]
    },
    {
     "ename": "FileExistsError",
     "evalue": "[WinError 183] Kan ikke opprette en fil når filen allerede finnes: 'randomint_sec3.txt' -> 'randomint_sec3_70.txt'",
     "output_type": "error",
     "traceback": [
      "\u001b[1;31m---------------------------------------------------------------------------\u001b[0m",
      "\u001b[1;31mFileExistsError\u001b[0m                           Traceback (most recent call last)",
      "Cell \u001b[1;32mIn [61], line 14\u001b[0m\n\u001b[0;32m     10\u001b[0m \u001b[39mprint\u001b[39m(max_len)\n\u001b[0;32m     12\u001b[0m get_ipython()\u001b[39m.\u001b[39msystem(\u001b[39m'\u001b[39m\u001b[39mpython rand_testsuite.py randomint_sec3.txt\u001b[39m\u001b[39m'\u001b[39m)\n\u001b[1;32m---> 14\u001b[0m os\u001b[39m.\u001b[39;49mrename(\u001b[39m'\u001b[39;49m\u001b[39mrandomint_sec3.txt\u001b[39;49m\u001b[39m'\u001b[39;49m, \u001b[39mf\u001b[39;49m\u001b[39m'\u001b[39;49m\u001b[39mrandomint_sec3_\u001b[39;49m\u001b[39m{\u001b[39;49;00mFRAME_SIZE\u001b[39m}\u001b[39;49;00m\u001b[39m.txt\u001b[39;49m\u001b[39m'\u001b[39;49m)\n",
      "\u001b[1;31mFileExistsError\u001b[0m: [WinError 183] Kan ikke opprette en fil når filen allerede finnes: 'randomint_sec3.txt' -> 'randomint_sec3_70.txt'"
     ]
    }
   ],
   "source": [
    "#np.savetxt('tmp_rand3.txt', randomint_sec3, fmt='%d', delimiter=' ')\n",
    "max_len =0\n",
    "f = open(f'randomint_sec3.txt','w')\n",
    "for i in range(len(randomint_sec3)):\n",
    "    f.write(\"{0:b}\".format(randomint_sec3[i]).zfill(9) + '\\n')\n",
    "    if len(\"{0:b}\".format(randomint_sec3[i])) > max_len:\n",
    "        max_len = len(\"{0:b}\".format(randomint_sec3[i]))\n",
    "f.close()\n",
    "\n",
    "print(max_len)\n",
    "\n",
    "!python rand_testsuite.py randomint_sec3.txt\n",
    "\n",
    "os.rename('randomint_sec3.txt', f'randomint_sec3_{FRAME_SIZE}.txt')"
   ]
  },
  {
   "cell_type": "code",
   "execution_count": 13,
   "id": "2efc2b3c",
   "metadata": {},
   "outputs": [
    {
     "name": "stdout",
     "output_type": "stream",
     "text": [
      "5\n",
      "The statistical test of the Binary Expansion of e\n",
      "2.01. Frequency Test:\t\t\t\t\t\t\t\t (0.6133282290424664, True)\n",
      "2.02. Block Frequency Test:\t\t\t\t\t\t\t (0.0066253500102527695, False)\n",
      "2.03. Run Test:\t\t\t\t\t\t\t\t\t\t (0.3897089947993373, True)\n",
      "2.04. Run Test (Longest Run of Ones): \t\t\t\t (0.01120675541372938, True)\n",
      "2.05. Binary Matrix Rank Test:\t\t\t\t\t\t (0.26498298306047374, True)\n",
      "2.06. Discrete Fourier Transform (Spectral) Test:\t (0.4249441495932904, True)\n",
      "Non-Overlapping Template Test DEBUG BEGIN:\n",
      "\tLength of input:\t\t 18108\n",
      "\tValue of Mean (µ):\t\t 4.404296875\n",
      "\tValue of Variance(σ):\t 4.273166656494141\n",
      "\tValue of W:\t\t\t\t [8. 2. 7. 1. 5. 7. 3. 4.]\n",
      "\tValue of xObs:\t\t\t 10.826790217687257\n",
      "\tP-Value:\t\t\t\t 0.2117079757605572\n",
      "DEBUG END.\n",
      "2.07. Non-overlapping Template Matching Test:\t\t (0.2117079757605572, True)\n",
      "2.08. Overlappong Template Matching Test: \t\t\t (0.1079457710878644, True)\n",
      "2.09. Universal Statistical Test:\t\t\t\t\t (-1.0, False)\n",
      "2.10. Linear Complexity Test:\t\t\t\t\t\t (0.5814367006235879, True)\n",
      "2.11. Serial Test:\t\t\t\t\t\t\t\t\t ((0.49896108745923523, True), (0.8666100822366777, True))\n",
      "Approximate Entropy Test DEBUG BEGIN:\n",
      "\tLength of input:\t\t\t 18108\n",
      "\tLength of each block:\t\t 10\n",
      "\tApEn(m):\t\t\t\t\t 0.6599668423880916\n",
      "\txObs:\t\t\t\t\t\t 1201.6591272318547\n",
      "\tP-Value:\t\t\t\t\t 9.431647812387754e-05\n",
      "DEBUG END.\n",
      "2.12. Approximate Entropy Test:\t\t\t\t\t\t (9.431647812387754e-05, False)\n",
      "2.13. Cumulative Sums (Forward):\t\t\t\t\t (0.18903088514744143, True)\n",
      "2.13. Cumulative Sums (Backward):\t\t\t\t\t (0.48572176377107934, True)\n",
      "2.14. Random Excursion Test:\n",
      "\t\t STATE \t\t\t xObs \t\t\t\t P-Value \t\t\t Conclusion\n",
      "\t\t '-4' \t\t 3.563074209275547 \t\t 0.6138659276920811 \t\t True\n",
      "\t\t '-3' \t\t 8.96955294117647 \t\t 0.11028476872820958 \t\t True\n",
      "\t\t '-2' \t\t 9.257080610021788 \t\t 0.09923907985843537 \t\t True\n",
      "\t\t '-1' \t\t 14.705882352941176 \t\t 0.011695834567073645 \t\t True\n",
      "\t\t '+1' \t\t 2.0 \t\t 0.8491450360846096 \t\t True\n",
      "\t\t '+2' \t\t 2.6492374727668846 \t\t 0.7538707127540635 \t\t True\n",
      "\t\t '+3' \t\t 3.6830588235294113 \t\t 0.595887070267206 \t\t True\n",
      "\t\t '+4' \t\t 2.6981894798735824 \t\t 0.7463953345467806 \t\t True\n",
      "2.15. Random Excursion Variant Test:\t\t\t\t\t\t\n",
      "\t\t STATE \t\t COUNTS \t\t\t P-Value \t\t Conclusion\n",
      "\t\t '-9.0' \t\t 62 \t\t 0.9006949110912197 \t\t True\n",
      "\t\t '-8.0' \t\t 69 \t\t 0.9823359820507692 \t\t True\n",
      "\t\t '-7.0' \t\t 67 \t\t 0.9810260394877776 \t\t True\n",
      "\t\t '-6.0' \t\t 81 \t\t 0.7367901810877748 \t\t True\n",
      "\t\t '-5.0' \t\t 97 \t\t 0.40715543358855055 \t\t True\n",
      "\t\t '-4.0' \t\t 99 \t\t 0.3150337316132855 \t\t True\n",
      "\t\t '-3.0' \t\t 101 \t\t 0.20569493140126405 \t\t True\n",
      "\t\t '-2.0' \t\t 100 \t\t 0.1131400081520064 \t\t True\n",
      "\t\t '-1.0' \t\t 82 \t\t 0.2299490567942134 \t\t True\n",
      "\t\t '+1.0' \t\t 65 \t\t 0.7969874262088125 \t\t True\n",
      "\t\t '+2.0' \t\t 53 \t\t 0.45771743442744617 \t\t True\n",
      "\t\t '+3.0' \t\t 55 \t\t 0.6181124725122931 \t\t True\n",
      "\t\t '+4.0' \t\t 65 \t\t 0.9225433008087743 \t\t True\n",
      "\t\t '+5.0' \t\t 69 \t\t 0.9771970927991701 \t\t True\n",
      "\t\t '+6.0' \t\t 62 \t\t 0.8767217432348915 \t\t True\n",
      "\t\t '+7.0' \t\t 52 \t\t 0.7035585661464809 \t\t True\n",
      "\t\t '+8.0' \t\t 44 \t\t 0.5951631467095725 \t\t True\n",
      "\t\t '+9.0' \t\t 37 \t\t 0.5191118897668459 \t\t True\n"
     ]
    }
   ],
   "source": [
    "max_len =0\n",
    "f = open('randomint.txt','w')\n",
    "for i in range(len(randomint)):\n",
    "    f.write(\"{0:b}\".format(randomint[i]).zfill(8) + '\\n')\n",
    "    if len(\"{0:b}\".format(randomint[i])) > max_len:\n",
    "        max_len = len(\"{0:b}\".format(randomint[i]))\n",
    "f.close()\n",
    "\n",
    "print(max_len)\n",
    "\n",
    "!python rand_testsuite.py randomint.txt"
   ]
  },
  {
   "cell_type": "code",
   "execution_count": 26,
   "id": "a83caf41",
   "metadata": {},
   "outputs": [
    {
     "name": "stdout",
     "output_type": "stream",
     "text": [
      "5\n",
      "The statistical test of the Binary Expansion of e\n",
      "2.01. Frequency Test:\t\t\t\t\t\t\t\t (0.6133282290424664, True)\n",
      "2.02. Block Frequency Test:\t\t\t\t\t\t\t (0.0066253500102527695, False)\n",
      "2.03. Run Test:\t\t\t\t\t\t\t\t\t\t (0.3897089947993373, True)\n",
      "2.04. Run Test (Longest Run of Ones): \t\t\t\t (0.01120675541372938, True)\n",
      "2.05. Binary Matrix Rank Test:\t\t\t\t\t\t (0.26498298306047374, True)\n",
      "2.06. Discrete Fourier Transform (Spectral) Test:\t (0.4249441495932904, True)\n",
      "Non-Overlapping Template Test DEBUG BEGIN:\n",
      "\tLength of input:\t\t 18108\n",
      "\tValue of Mean (µ):\t\t 4.404296875\n",
      "\tValue of Variance(σ):\t 4.273166656494141\n",
      "\tValue of W:\t\t\t\t [8. 2. 7. 1. 5. 7. 3. 4.]\n",
      "\tValue of xObs:\t\t\t 10.826790217687257\n",
      "\tP-Value:\t\t\t\t 0.2117079757605572\n",
      "DEBUG END.\n",
      "2.07. Non-overlapping Template Matching Test:\t\t (0.2117079757605572, True)\n",
      "2.08. Overlappong Template Matching Test: \t\t\t (0.1079457710878644, True)\n",
      "2.09. Universal Statistical Test:\t\t\t\t\t (-1.0, False)\n",
      "2.10. Linear Complexity Test:\t\t\t\t\t\t (0.5814367006235879, True)\n",
      "2.11. Serial Test:\t\t\t\t\t\t\t\t\t ((0.49896108745923523, True), (0.8666100822366777, True))\n",
      "Approximate Entropy Test DEBUG BEGIN:\n",
      "\tLength of input:\t\t\t 18108\n",
      "\tLength of each block:\t\t 10\n",
      "\tApEn(m):\t\t\t\t\t 0.6599668423880916\n",
      "\txObs:\t\t\t\t\t\t 1201.6591272318547\n",
      "\tP-Value:\t\t\t\t\t 9.431647812387754e-05\n",
      "DEBUG END.\n",
      "2.12. Approximate Entropy Test:\t\t\t\t\t\t (9.431647812387754e-05, False)\n",
      "2.13. Cumulative Sums (Forward):\t\t\t\t\t (0.18903088514744143, True)\n",
      "2.13. Cumulative Sums (Backward):\t\t\t\t\t (0.48572176377107934, True)\n",
      "2.14. Random Excursion Test:\n",
      "\t\t STATE \t\t\t xObs \t\t\t\t P-Value \t\t\t Conclusion\n",
      "\t\t '-4' \t\t 3.563074209275547 \t\t 0.6138659276920811 \t\t True\n",
      "\t\t '-3' \t\t 8.96955294117647 \t\t 0.11028476872820958 \t\t True\n",
      "\t\t '-2' \t\t 9.257080610021788 \t\t 0.09923907985843537 \t\t True\n",
      "\t\t '-1' \t\t 14.705882352941176 \t\t 0.011695834567073645 \t\t True\n",
      "\t\t '+1' \t\t 2.0 \t\t 0.8491450360846096 \t\t True\n",
      "\t\t '+2' \t\t 2.6492374727668846 \t\t 0.7538707127540635 \t\t True\n",
      "\t\t '+3' \t\t 3.6830588235294113 \t\t 0.595887070267206 \t\t True\n",
      "\t\t '+4' \t\t 2.6981894798735824 \t\t 0.7463953345467806 \t\t True\n",
      "2.15. Random Excursion Variant Test:\t\t\t\t\t\t\n",
      "\t\t STATE \t\t COUNTS \t\t\t P-Value \t\t Conclusion\n",
      "\t\t '-9.0' \t\t 62 \t\t 0.9006949110912197 \t\t True\n",
      "\t\t '-8.0' \t\t 69 \t\t 0.9823359820507692 \t\t True\n",
      "\t\t '-7.0' \t\t 67 \t\t 0.9810260394877776 \t\t True\n",
      "\t\t '-6.0' \t\t 81 \t\t 0.7367901810877748 \t\t True\n",
      "\t\t '-5.0' \t\t 97 \t\t 0.40715543358855055 \t\t True\n",
      "\t\t '-4.0' \t\t 99 \t\t 0.3150337316132855 \t\t True\n",
      "\t\t '-3.0' \t\t 101 \t\t 0.20569493140126405 \t\t True\n",
      "\t\t '-2.0' \t\t 100 \t\t 0.1131400081520064 \t\t True\n",
      "\t\t '-1.0' \t\t 82 \t\t 0.2299490567942134 \t\t True\n",
      "\t\t '+1.0' \t\t 65 \t\t 0.7969874262088125 \t\t True\n",
      "\t\t '+2.0' \t\t 53 \t\t 0.45771743442744617 \t\t True\n",
      "\t\t '+3.0' \t\t 55 \t\t 0.6181124725122931 \t\t True\n",
      "\t\t '+4.0' \t\t 65 \t\t 0.9225433008087743 \t\t True\n",
      "\t\t '+5.0' \t\t 69 \t\t 0.9771970927991701 \t\t True\n",
      "\t\t '+6.0' \t\t 62 \t\t 0.8767217432348915 \t\t True\n",
      "\t\t '+7.0' \t\t 52 \t\t 0.7035585661464809 \t\t True\n",
      "\t\t '+8.0' \t\t 44 \t\t 0.5951631467095725 \t\t True\n",
      "\t\t '+9.0' \t\t 37 \t\t 0.5191118897668459 \t\t True\n"
     ]
    }
   ],
   "source": [
    "max_len =0\n",
    "f = open('randomint_sec2.txt','w')\n",
    "for i in range(len(randomint_sec2)):\n",
    "    f.write(\"{0:b}\".format(randomint_sec2[i]).zfill(8) + '\\n')\n",
    "    if len(\"{0:b}\".format(randomint_sec2[i])) > max_len:\n",
    "        max_len = len(\"{0:b}\".format(randomint_sec2[i]))\n",
    "f.close()\n",
    "\n",
    "print(max_len)\n",
    "\n",
    "!python rand_testsuite.py randomint_sec2.txt"
   ]
  }
 ],
 "metadata": {
  "kernelspec": {
   "display_name": "Python 3.10.8 64-bit",
   "language": "python",
   "name": "python3"
  },
  "language_info": {
   "codemirror_mode": {
    "name": "ipython",
    "version": 3
   },
   "file_extension": ".py",
   "mimetype": "text/x-python",
   "name": "python",
   "nbconvert_exporter": "python",
   "pygments_lexer": "ipython3",
   "version": "3.10.8"
  },
  "vscode": {
   "interpreter": {
    "hash": "369f2c481f4da34e4445cda3fffd2e751bd1c4d706f27375911949ba6bb62e1c"
   }
  }
 },
 "nbformat": 4,
 "nbformat_minor": 5
}
